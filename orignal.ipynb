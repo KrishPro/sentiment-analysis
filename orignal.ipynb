{
 "cells": [
  {
   "cell_type": "markdown",
   "id": "e03e08c9",
   "metadata": {},
   "source": [
    "# HyperParams"
   ]
  },
  {
   "cell_type": "code",
   "execution_count": 1,
   "id": "0cc78e00",
   "metadata": {},
   "outputs": [],
   "source": [
    "EPOCHS = 40\n",
    "learning_rate = 3e-4\n",
    "embed_size = 128\n",
    "batch_size = 32\n",
    "hidden_size = 256\n",
    "n_layers = 2"
   ]
  },
  {
   "cell_type": "markdown",
   "id": "15635012",
   "metadata": {},
   "source": [
    "# Data"
   ]
  },
  {
   "cell_type": "code",
   "execution_count": 2,
   "id": "67911f5b",
   "metadata": {},
   "outputs": [],
   "source": [
    "from collections import Counter\n",
    "import torch.utils.data as data\n",
    "from torchtext.vocab import vocab as build_vocab\n",
    "from torchtext.data.utils import get_tokenizer\n",
    "from tqdm import tqdm\n",
    "import pandas as pd\n",
    "import numpy as np\n",
    "import torch\n",
    "import re\n",
    "import os"
   ]
  },
  {
   "cell_type": "code",
   "execution_count": 3,
   "id": "e49c10f9",
   "metadata": {},
   "outputs": [],
   "source": [
    "tokenizer = get_tokenizer(\"spacy\", language=\"en_core_web_sm\")"
   ]
  },
  {
   "cell_type": "code",
   "execution_count": 4,
   "id": "9b8de071",
   "metadata": {},
   "outputs": [],
   "source": [
    "tqdm.pandas() # merging tqdm with pandas for better progress-bars while looping"
   ]
  },
  {
   "cell_type": "code",
   "execution_count": 5,
   "id": "2fe26119",
   "metadata": {},
   "outputs": [],
   "source": [
    "data_dir = \"/home/krish/Datasets/IMDB-Pos-vs-Neg/\"\n",
    "splits = list(map(lambda csv: os.path.join(data_dir, csv), os.listdir(data_dir)))\n",
    "\n",
    "df = pd.concat(list(map(pd.read_csv, splits)), ignore_index=True)"
   ]
  },
  {
   "cell_type": "code",
   "execution_count": 6,
   "id": "904775f6",
   "metadata": {},
   "outputs": [
    {
     "data": {
      "text/html": [
       "<div>\n",
       "<style scoped>\n",
       "    .dataframe tbody tr th:only-of-type {\n",
       "        vertical-align: middle;\n",
       "    }\n",
       "\n",
       "    .dataframe tbody tr th {\n",
       "        vertical-align: top;\n",
       "    }\n",
       "\n",
       "    .dataframe thead th {\n",
       "        text-align: right;\n",
       "    }\n",
       "</style>\n",
       "<table border=\"1\" class=\"dataframe\">\n",
       "  <thead>\n",
       "    <tr style=\"text-align: right;\">\n",
       "      <th></th>\n",
       "      <th>text</th>\n",
       "      <th>label</th>\n",
       "    </tr>\n",
       "  </thead>\n",
       "  <tbody>\n",
       "    <tr>\n",
       "      <th>0</th>\n",
       "      <td>It's been about 14 years since Sharon Stone aw...</td>\n",
       "      <td>0</td>\n",
       "    </tr>\n",
       "    <tr>\n",
       "      <th>1</th>\n",
       "      <td>someone needed to make a car payment... this i...</td>\n",
       "      <td>0</td>\n",
       "    </tr>\n",
       "    <tr>\n",
       "      <th>2</th>\n",
       "      <td>The Guidelines state that a comment must conta...</td>\n",
       "      <td>0</td>\n",
       "    </tr>\n",
       "    <tr>\n",
       "      <th>3</th>\n",
       "      <td>This movie is a muddled mish-mash of clichés f...</td>\n",
       "      <td>0</td>\n",
       "    </tr>\n",
       "    <tr>\n",
       "      <th>4</th>\n",
       "      <td>Before Stan Laurel became the smaller half of ...</td>\n",
       "      <td>0</td>\n",
       "    </tr>\n",
       "  </tbody>\n",
       "</table>\n",
       "</div>"
      ],
      "text/plain": [
       "                                                text  label\n",
       "0  It's been about 14 years since Sharon Stone aw...      0\n",
       "1  someone needed to make a car payment... this i...      0\n",
       "2  The Guidelines state that a comment must conta...      0\n",
       "3  This movie is a muddled mish-mash of clichés f...      0\n",
       "4  Before Stan Laurel became the smaller half of ...      0"
      ]
     },
     "execution_count": 6,
     "metadata": {},
     "output_type": "execute_result"
    }
   ],
   "source": [
    "df.head()"
   ]
  },
  {
   "cell_type": "code",
   "execution_count": 7,
   "id": "4147658e",
   "metadata": {},
   "outputs": [
    {
     "name": "stderr",
     "output_type": "stream",
     "text": [
      "100%|███████████████████████████████████| 50000/50000 [00:21<00:00, 2295.58it/s]\n"
     ]
    }
   ],
   "source": [
    "def clean_text(text):\n",
    "    text = text.lower()\n",
    "    text = text.replace(\"<br />\", \"\")\n",
    "    text = re.sub(r'[^\\w\\s]', \"\", text)\n",
    "    return text\n",
    "\n",
    "df['text'] = df['text'].map(clean_text) # Cleaning the text\n",
    "df['text'] = df['text'].progress_map(tokenizer) # Splitting Words"
   ]
  },
  {
   "cell_type": "code",
   "execution_count": 8,
   "id": "7360f587",
   "metadata": {},
   "outputs": [
    {
     "name": "stderr",
     "output_type": "stream",
     "text": [
      "100%|██████████████████████████████████| 50000/50000 [00:01<00:00, 35823.44it/s]\n"
     ]
    }
   ],
   "source": [
    "counter = Counter()\n",
    "for text in tqdm(df['text']):\n",
    "    counter.update(text)\n",
    "    \n",
    "vocab = build_vocab(counter, min_freq=2)\n",
    "\n",
    "## Speacial Tokens \n",
    "special_tokens = ('<PAD>', '<UNK>')\n",
    "for i, tok in enumerate(special_tokens): vocab.insert_token(tok, i)\n",
    "vocab.set_default_index(special_tokens.index(\"<UNK>\"))\n",
    "\n",
    "df['text'] = df['text'].map(vocab)\n",
    "vocab_size = len(vocab)"
   ]
  },
  {
   "cell_type": "code",
   "execution_count": 9,
   "id": "365d2076",
   "metadata": {},
   "outputs": [
    {
     "data": {
      "text/plain": [
       "<AxesSubplot:ylabel='Frequency'>"
      ]
     },
     "execution_count": 9,
     "metadata": {},
     "output_type": "execute_result"
    },
    {
     "data": {
      "image/png": "[encoded data removed]",
      "text/plain": [
       "<Figure size 432x288 with 1 Axes>"
      ]
     },
     "metadata": {
      "needs_background": "light"
     },
     "output_type": "display_data"
    }
   ],
   "source": [
    "text_lens = df['text'].map(lambda s: len(s))\n",
    "text_lens.plot.hist()"
   ]
  },
  {
   "cell_type": "code",
   "execution_count": 10,
   "id": "e3efc61a",
   "metadata": {},
   "outputs": [],
   "source": [
    "df = df[text_lens < 500 ]\n",
    "text_lens = text_lens[text_lens < 500]\n",
    "\n",
    "df = df[text_lens > 50]\n",
    "text_lens = text_lens[text_lens > 50]"
   ]
  },
  {
   "cell_type": "code",
   "execution_count": 11,
   "id": "18fc8cc6",
   "metadata": {},
   "outputs": [
    {
     "data": {
      "text/plain": [
       "<AxesSubplot:ylabel='Frequency'>"
      ]
     },
     "execution_count": 11,
     "metadata": {},
     "output_type": "execute_result"
    },
    {
     "data": {
      "image/png": "[encoded data removed]",
      "text/plain": [
       "<Figure size 432x288 with 1 Axes>"
      ]
     },
     "metadata": {
      "needs_background": "light"
     },
     "output_type": "display_data"
    }
   ],
   "source": [
    "text_lens = df['text'].map(lambda s: len(s))\n",
    "text_lens.plot.hist()"
   ]
  },
  {
   "cell_type": "code",
   "execution_count": 12,
   "id": "dc4b0be4",
   "metadata": {},
   "outputs": [],
   "source": [
    "seq_len = 250\n",
    "\n",
    "def padd_and_truncate(text):\n",
    "    text = text[:seq_len]\n",
    "    \n",
    "    padd_size = seq_len - len(text)\n",
    "    padding = [0] * padd_size\n",
    "    \n",
    "    return padding + text\n",
    "\n",
    "df['text'] = df['text'].map(padd_and_truncate)\n",
    "\n",
    "assert (df['text'].map(lambda s: len(s)) == seq_len).all()"
   ]
  },
  {
   "cell_type": "code",
   "execution_count": 13,
   "id": "ad569437",
   "metadata": {},
   "outputs": [],
   "source": [
    "reviews = torch.tensor(df['text'].to_list())\n",
    "labels = torch.tensor(df['label'].to_list())\n",
    "\n",
    "dataset = data.TensorDataset(reviews, labels)\n",
    "dataset = data.DataLoader(dataset, batch_size, num_workers=os.cpu_count(), pin_memory=True, shuffle=True)"
   ]
  },
  {
   "cell_type": "markdown",
   "id": "1d233ccc",
   "metadata": {},
   "source": [
    "# Model"
   ]
  },
  {
   "cell_type": "code",
   "execution_count": 14,
   "id": "bd3ff9c2",
   "metadata": {},
   "outputs": [],
   "source": [
    "import torch.nn as nn\n",
    "import torch"
   ]
  },
  {
   "cell_type": "code",
   "execution_count": 15,
   "id": "39ef570d",
   "metadata": {},
   "outputs": [],
   "source": [
    "class Model(nn.Module):\n",
    "    def __init__(self, hidden_size, embed_size, vocab_size, n_layers, dropout = 0.5, output_size = 1):\n",
    "        super().__init__()\n",
    "        \n",
    "        self.embed = nn.Embedding(vocab_size, embed_size)\n",
    "        \n",
    "        self.lstm = nn.LSTM(embed_size, hidden_size, batch_first=True, num_layers=n_layers, dropout=dropout)\n",
    "        \n",
    "        self.linear = nn.Linear(hidden_size, output_size)\n",
    "        \n",
    "        self.dropout = nn.Dropout(0.3)\n",
    "        \n",
    "        self.sigmoid = nn.Sigmoid()\n",
    "        \n",
    "    def forward(self, review):\n",
    "        batch_size = review.size(0)\n",
    "        \n",
    "        embeded = self.embed(review) # (batch_size, seq_len, embed_size)\n",
    "    \n",
    "        lstm_out, _ = self.lstm(embeded) # (batch_size, seq_len, hidden_size)\n",
    "        \n",
    "        lstm_out = lstm_out.reshape(-1, hidden_size) # (batch_size * seq_len, hidden_size)\n",
    "        \n",
    "        linear = self.linear(lstm_out) # (batch_size * seq_len, 1) (output_size=1)\n",
    "        \n",
    "        linear = linear.reshape(batch_size, -1) # (batch_size, seq_len)\n",
    "        \n",
    "        output = linear[:,-1:] # (batch_size, 1) (taking last item on seq_len dim)\n",
    "        \n",
    "        output = self.sigmoid(output) # sigmoid\n",
    "        \n",
    "        return output\n",
    "        \n",
    "                \n",
    "net = Model(hidden_size, embed_size, vocab_size, n_layers)"
   ]
  },
  {
   "cell_type": "markdown",
   "id": "c48aefc1",
   "metadata": {},
   "source": [
    "# Trainning"
   ]
  },
  {
   "cell_type": "code",
   "execution_count": 16,
   "id": "5aec38e1",
   "metadata": {},
   "outputs": [],
   "source": [
    "from torch.utils.tensorboard import SummaryWriter\n",
    "import torch.optim as optim"
   ]
  },
  {
   "cell_type": "code",
   "execution_count": 17,
   "id": "fc59036e",
   "metadata": {},
   "outputs": [],
   "source": [
    "!rm -rf runs\n",
    "writer = SummaryWriter(\"runs/\")\n",
    "global_step = 1"
   ]
  },
  {
   "cell_type": "code",
   "execution_count": 18,
   "id": "95adb969",
   "metadata": {},
   "outputs": [],
   "source": [
    "device = torch.device(\"cuda\" if torch.cuda.is_available() else \"cpu\")\n",
    "\n",
    "net = net.to(device)"
   ]
  },
  {
   "cell_type": "code",
   "execution_count": 19,
   "id": "a9c9c3cc",
   "metadata": {},
   "outputs": [],
   "source": [
    "optimizer = optim.Adam(net.parameters(), lr=learning_rate)\n",
    "criterion = nn.BCELoss()"
   ]
  },
  {
   "cell_type": "code",
   "execution_count": 20,
   "id": "bcd2103d",
   "metadata": {},
   "outputs": [
    {
     "name": "stderr",
     "output_type": "stream",
     "text": [
      "EPOCH 1: 100%|██████████████████| 1404/1404 [03:26<00:00,  6.80it/s, loss=0.497]\n",
      "EPOCH 2: 100%|██████████████████| 1404/1404 [03:01<00:00,  7.75it/s, loss=0.669]\n",
      "EPOCH 3: 100%|██████████████████| 1404/1404 [03:01<00:00,  7.75it/s, loss=0.305]\n",
      "EPOCH 4: 100%|███████████████████| 1404/1404 [03:01<00:00,  7.73it/s, loss=0.35]\n",
      "EPOCH 5: 100%|██████████████████| 1404/1404 [03:03<00:00,  7.65it/s, loss=0.103]\n",
      "EPOCH 6: 100%|██████████████████| 1404/1404 [03:02<00:00,  7.69it/s, loss=0.321]\n",
      "EPOCH 7: 100%|█████████████████| 1404/1404 [03:01<00:00,  7.72it/s, loss=0.0587]\n",
      "EPOCH 8: 100%|██████████████████| 1404/1404 [03:02<00:00,  7.71it/s, loss=0.282]\n",
      "EPOCH 9: 100%|██████████████████| 1404/1404 [03:01<00:00,  7.72it/s, loss=0.166]\n",
      "EPOCH 10: 100%|████████████████| 1404/1404 [03:01<00:00,  7.71it/s, loss=0.0407]\n",
      "EPOCH 11: 100%|████████████████| 1404/1404 [03:02<00:00,  7.71it/s, loss=0.0992]\n",
      "EPOCH 12: 100%|█████████████████| 1404/1404 [03:02<00:00,  7.70it/s, loss=0.192]\n",
      "EPOCH 13: 100%|████████████████| 1404/1404 [03:02<00:00,  7.69it/s, loss=0.0389]\n",
      "EPOCH 14: 100%|█████████████████| 1404/1404 [03:01<00:00,  7.75it/s, loss=0.275]\n",
      "EPOCH 15: 100%|██████████████████| 1404/1404 [03:01<00:00,  7.75it/s, loss=0.35]\n",
      "EPOCH 16: 100%|███████████████| 1404/1404 [03:01<00:00,  7.75it/s, loss=0.00196]\n",
      "EPOCH 17: 100%|███████████████| 1404/1404 [03:02<00:00,  7.70it/s, loss=0.00419]\n",
      "EPOCH 18: 100%|███████████████| 1404/1404 [03:01<00:00,  7.73it/s, loss=0.00117]\n",
      "EPOCH 19: 100%|███████████████| 1404/1404 [03:01<00:00,  7.75it/s, loss=0.00174]\n",
      "EPOCH 20: 100%|██████████████| 1404/1404 [03:00<00:00,  7.76it/s, loss=0.000765]\n",
      "EPOCH 21: 100%|███████████████| 1404/1404 [03:03<00:00,  7.66it/s, loss=0.00261]\n",
      "EPOCH 22: 100%|███████████████| 1404/1404 [03:03<00:00,  7.67it/s, loss=0.00921]\n",
      "EPOCH 23: 100%|███████████████| 1404/1404 [03:03<00:00,  7.67it/s, loss=0.00229]\n",
      "EPOCH 24: 100%|███████████████| 1404/1404 [03:01<00:00,  7.73it/s, loss=0.00351]\n",
      "EPOCH 25: 100%|██████████████| 1404/1404 [03:01<00:00,  7.74it/s, loss=0.000403]\n",
      "EPOCH 26: 100%|██████████████| 1404/1404 [03:01<00:00,  7.75it/s, loss=0.000911]\n",
      "EPOCH 27: 100%|███████████████| 1404/1404 [03:01<00:00,  7.74it/s, loss=0.00303]\n",
      "EPOCH 28: 100%|██████████████| 1404/1404 [03:02<00:00,  7.68it/s, loss=0.000494]\n",
      "EPOCH 29: 100%|███████████████| 1404/1404 [03:02<00:00,  7.71it/s, loss=5.24e-5]\n",
      "EPOCH 30: 100%|██████████████| 1404/1404 [03:02<00:00,  7.69it/s, loss=0.000135]\n",
      "EPOCH 31: 100%|███████████████| 1404/1404 [03:01<00:00,  7.73it/s, loss=4.92e-5]\n",
      "EPOCH 32: 100%|███████████████| 1404/1404 [03:01<00:00,  7.75it/s, loss=8.29e-5]\n",
      "EPOCH 33: 100%|████████████████| 1404/1404 [03:03<00:00,  7.64it/s, loss=0.0198]\n",
      "EPOCH 34: 100%|███████████████| 1404/1404 [03:05<00:00,  7.56it/s, loss=0.00177]\n",
      "EPOCH 35: 100%|██████████████| 1404/1404 [03:03<00:00,  7.66it/s, loss=0.000241]\n",
      "EPOCH 36: 100%|███████████████| 1404/1404 [03:01<00:00,  7.75it/s, loss=1.36e-5]\n",
      "EPOCH 37: 100%|██████████████| 1404/1404 [03:01<00:00,  7.75it/s, loss=0.000287]\n",
      "EPOCH 38: 100%|██████████████| 1404/1404 [03:01<00:00,  7.74it/s, loss=0.000218]\n",
      "EPOCH 39: 100%|███████████████| 1404/1404 [03:01<00:00,  7.75it/s, loss=5.38e-5]\n",
      "EPOCH 40: 100%|███████████████| 1404/1404 [03:01<00:00,  7.73it/s, loss=4.96e-5]\n"
     ]
    }
   ],
   "source": [
    "for epoch in range(EPOCHS):\n",
    "    losses = []\n",
    "    with tqdm(dataset, desc=f\"EPOCH {epoch+1}\") as pbar:\n",
    "        for review, y in pbar:\n",
    "            review = review.to(device)\n",
    "            Y = net(review)\n",
    "            loss = criterion(Y.squeeze(1), y.float().to(device))\n",
    "            optimizer.zero_grad()\n",
    "            loss.backward()\n",
    "            optimizer.step()\n",
    "            pbar.set_postfix(loss=loss.item())\n",
    "            losses.append(loss.item())\n",
    "            writer.add_scalar(\"loss\", loss.item(), global_step=global_step)\n",
    "            global_step += 1"
   ]
  },
  {
   "cell_type": "markdown",
   "id": "506ca54b",
   "metadata": {},
   "source": [
    "# Evaluating"
   ]
  },
  {
   "cell_type": "code",
   "execution_count": 21,
   "id": "b44f2b30",
   "metadata": {},
   "outputs": [],
   "source": [
    "import matplotlib.pyplot as plt"
   ]
  },
  {
   "cell_type": "code",
   "execution_count": 145,
   "id": "2b8ec287",
   "metadata": {},
   "outputs": [],
   "source": [
    "review, y = next(iter(dataset))"
   ]
  },
  {
   "cell_type": "code",
   "execution_count": 23,
   "id": "59884208",
   "metadata": {},
   "outputs": [
    {
     "data": {
      "text/plain": [
       "[<matplotlib.lines.Line2D at 0x7f0672847f70>]"
      ]
     },
     "execution_count": 23,
     "metadata": {},
     "output_type": "execute_result"
    },
    {
     "data": {
      "image/png": "[encoded data removed]",
      "text/plain": [
       "<Figure size 432x288 with 1 Axes>"
      ]
     },
     "metadata": {
      "needs_background": "light"
     },
     "output_type": "display_data"
    }
   ],
   "source": [
    "plt.plot(losses)"
   ]
  },
  {
   "cell_type": "code",
   "execution_count": 158,
   "id": "1b4cacd8",
   "metadata": {},
   "outputs": [
    {
     "name": "stdout",
     "output_type": "stream",
     "text": [
      "an excellent cast who do their best with an awful script inept direction and some of the worst score that i have ever heard more tv movie of the week than serious drama which is sad when one considers that the source material is very serious and very real the film makers decided that instead of building drama and character it was better to just show the most graphic and violent bits and hope that the audience would be shocked into sympathy and caring in my opinion one the most blatant forms of cut and paste film adapting\n",
      "\n",
      "Negative\n"
     ]
    }
   ],
   "source": [
    "print(' '.join([vocab.get_itos()[i] for i in review[0]]))\n",
    "print(\"\")\n",
    "print(\"Positive\" if y[0] > 0.5 else \"Negative\")"
   ]
  },
  {
   "cell_type": "code",
   "execution_count": 157,
   "id": "8c948c1c",
   "metadata": {},
   "outputs": [
    {
     "name": "stdout",
     "output_type": "stream",
     "text": [
      "Negative 99.929%\n"
     ]
    }
   ],
   "source": [
    "review = \"\"\"an excellent cast who do their best with an awful script inept direction and some of the worst score that i have ever heard more tv movie of the week than serious drama which is sad when one considers that the source material is very serious and very real the film makers decided that instead of building drama and character it was better to just show the most graphic and violent bits and hope that the audience would be shocked into sympathy and caring in my opinion one the most blatant forms of cut and paste film adapting\"\"\"\n",
    "\n",
    "review = torch.tensor(vocab(tokenizer(review)), device=device).view(1, -1)\n",
    "\n",
    "with torch.no_grad():\n",
    "    sentiment = net(review).item()\n",
    "    if sentiment > 0.5:\n",
    "        print(f\"Positive {(sentiment*100):.3f}%\")\n",
    "    else:\n",
    "        print(f\"Negative {((1-sentiment)*100):.3f}%\")"
   ]
  },
  {
   "cell_type": "code",
   "execution_count": 60,
   "id": "f486a528",
   "metadata": {},
   "outputs": [],
   "source": [
    "torch.save(net.state_dict(), \"IMDB-Pos-vs-Neg.pth\")"
   ]
  },
  {
   "cell_type": "markdown",
   "id": "0125d584",
   "metadata": {},
   "source": [
    "# Thank You 🙏️"
   ]
  }
 ],
 "metadata": {
  "kernelspec": {
   "display_name": "Python 3 (ipykernel)",
   "language": "python",
   "name": "python3"
  },
  "language_info": {
   "codemirror_mode": {
    "name": "ipython",
    "version": 3
   },
   "file_extension": ".py",
   "mimetype": "text/x-python",
   "name": "python",
   "nbconvert_exporter": "python",
   "pygments_lexer": "ipython3",
   "version": "3.9.5"
  }
 },
 "nbformat": 4,
 "nbformat_minor": 5
}
