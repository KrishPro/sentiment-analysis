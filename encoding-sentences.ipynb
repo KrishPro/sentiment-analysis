{
 "cells": [
  {
   "cell_type": "markdown",
   "id": "08eb6272",
   "metadata": {
    "papermill": {
     "duration": 0.004044,
     "end_time": "2022-06-01T16:27:20.952395",
     "exception": false,
     "start_time": "2022-06-01T16:27:20.948351",
     "status": "completed"
    },
    "tags": []
   },
   "source": [
    "## Setting up BERT-BASE"
   ]
  },
  {
   "cell_type": "code",
   "execution_count": null,
   "id": "25ccba8f",
   "metadata": {
    "execution": {
     "iopub.execute_input": "2022-06-01T16:27:20.962468Z",
     "iopub.status.busy": "2022-06-01T16:27:20.961750Z",
     "iopub.status.idle": "2022-06-01T16:28:33.270371Z",
     "shell.execute_reply": "2022-06-01T16:28:33.269210Z"
    },
    "papermill": {
     "duration": 72.318094,
     "end_time": "2022-06-01T16:28:33.273322",
     "exception": false,
     "start_time": "2022-06-01T16:27:20.955228",
     "status": "completed"
    },
    "tags": []
   },
   "outputs": [],
   "source": [
    "from transformers.models.auto.modeling_auto import AutoModel\n",
    "from transformers.models.auto.tokenization_auto import AutoTokenizer\n",
    "import torch\n",
    "\n",
    "model_name = \"bert-large-uncased\"\n",
    "\n",
    "model = AutoModel.from_pretrained(model_name).cuda()\n",
    "tokenizer = AutoTokenizer.from_pretrained(model_name)"
   ]
  },
  {
   "cell_type": "code",
   "execution_count": null,
   "id": "783ae077",
   "metadata": {
    "execution": {
     "iopub.execute_input": "2022-06-01T16:28:33.283083Z",
     "iopub.status.busy": "2022-06-01T16:28:33.282421Z",
     "iopub.status.idle": "2022-06-01T16:28:33.293051Z",
     "shell.execute_reply": "2022-06-01T16:28:33.292008Z"
    },
    "papermill": {
     "duration": 0.017874,
     "end_time": "2022-06-01T16:28:33.295215",
     "exception": false,
     "start_time": "2022-06-01T16:28:33.277341",
     "status": "completed"
    },
    "tags": []
   },
   "outputs": [],
   "source": [
    "def can_be_dict(obj):\n",
    "    \"\"\"\n",
    "    This function tells that the object can be converted to a dict or not\n",
    "    \"\"\"\n",
    "    try:\n",
    "        dict(obj)\n",
    "        return True\n",
    "    except Exception:\n",
    "        return False\n",
    "\n",
    "def move_to(obj, device=\"cpu\"):\n",
    "    \"\"\"\n",
    "    This function helps in moving objects having tensors to cuda\n",
    "    \"\"\"\n",
    "    if device in dir(obj):\n",
    "        obj = obj.to(device)\n",
    "    \n",
    "    elif can_be_dict(obj):\n",
    "        obj = dict(obj)\n",
    "        \n",
    "        for k, v in obj.items():\n",
    "            if device in dir(v):\n",
    "                obj[k] = v.to(device)\n",
    "    return obj\n",
    "\n",
    "@torch.no_grad()\n",
    "def encode(sentences, device=\"cpu\"):\n",
    "    global model\n",
    "    sentences = move_to(tokenizer(sentences, padding=True, return_tensors=\"pt\"), device)\n",
    "    if model.device != device:\n",
    "        model = model.to(device)\n",
    "    cls_token = model(**sentences).last_hidden_state[:, 0, :]\n",
    "    return cls_token.tolist()"
   ]
  },
  {
   "cell_type": "markdown",
   "id": "872354ac",
   "metadata": {
    "papermill": {
     "duration": 0.003571,
     "end_time": "2022-06-01T16:28:33.302382",
     "exception": false,
     "start_time": "2022-06-01T16:28:33.298811",
     "status": "completed"
    },
    "tags": []
   },
   "source": [
    "## Setting up DataFrame"
   ]
  },
  {
   "cell_type": "code",
   "execution_count": null,
   "id": "836a8246",
   "metadata": {
    "execution": {
     "iopub.execute_input": "2022-06-01T16:28:33.311419Z",
     "iopub.status.busy": "2022-06-01T16:28:33.311074Z",
     "iopub.status.idle": "2022-06-01T16:28:35.991464Z",
     "shell.execute_reply": "2022-06-01T16:28:35.990370Z"
    },
    "papermill": {
     "duration": 2.687971,
     "end_time": "2022-06-01T16:28:35.994243",
     "exception": false,
     "start_time": "2022-06-01T16:28:33.306272",
     "status": "completed"
    },
    "tags": []
   },
   "outputs": [],
   "source": [
    "from tqdm import tqdm\n",
    "import pandas as pd\n",
    "import os\n",
    "\n",
    "data_dir = \"../input/tweets-sentiment-analysis/\"\n",
    "train_data = pd.read_csv(os.path.join(data_dir, 'train_data.csv'))"
   ]
  },
  {
   "cell_type": "code",
   "execution_count": null,
   "id": "c951fc3e",
   "metadata": {
    "execution": {
     "iopub.execute_input": "2022-06-01T16:28:36.003156Z",
     "iopub.status.busy": "2022-06-01T16:28:36.002807Z",
     "iopub.status.idle": "2022-06-01T16:28:36.457684Z",
     "shell.execute_reply": "2022-06-01T16:28:36.456654Z"
    },
    "papermill": {
     "duration": 0.462179,
     "end_time": "2022-06-01T16:28:36.460347",
     "exception": false,
     "start_time": "2022-06-01T16:28:35.998168",
     "status": "completed"
    },
    "tags": []
   },
   "outputs": [],
   "source": [
    "batch_size = 1024\n",
    "num_batches = len(train_data) // batch_size\n",
    "\n",
    "batched_traindata = [train_data[(batch_size*batch_idx):(batch_size*(batch_idx+1))] for batch_idx in range(num_batches)]\n",
    "batched_traindata = [(batch['sentence'].tolist(), batch['sentiment'].tolist()) for batch in batched_traindata]"
   ]
  },
  {
   "cell_type": "code",
   "execution_count": null,
   "id": "d3b67e56",
   "metadata": {
    "execution": {
     "iopub.execute_input": "2022-06-01T16:28:36.469372Z",
     "iopub.status.busy": "2022-06-01T16:28:36.469033Z",
     "iopub.status.idle": "2022-06-01T17:51:52.020807Z",
     "shell.execute_reply": "2022-06-01T17:51:52.019258Z"
    },
    "papermill": {
     "duration": 4995.558513,
     "end_time": "2022-06-01T17:51:52.022901",
     "exception": true,
     "start_time": "2022-06-01T16:28:36.464388",
     "status": "failed"
    },
    "tags": []
   },
   "outputs": [],
   "source": [
    "with open('processed_data.txt', 'w') as file:\n",
    "    for i, (sentence, sentiments) in enumerate(tqdm(batched_traindata)):\n",
    "        # Un-Comment incase running on kaggle, As progress bars aren't visible thier\n",
    "        # print(f\"{i}/{len(batched_traindata)} | {(i/len(batched_traindata))*100:.3f}%\")\n",
    "        encoded = encode(sentence, \"cuda\")\n",
    "        for ids, sentiment in zip(map(lambda ids: ' '.join(map(str, ids)), encoded), map(str, sentiments)):\n",
    "            file.write('\\t'.join([ids, sentiment]) + '\\n')"
   ]
  }
 ],
 "metadata": {
  "kernelspec": {
   "display_name": "Python 3",
   "language": "python",
   "name": "python3"
  },
  "language_info": {
   "codemirror_mode": {
    "name": "ipython",
    "version": 3
   },
   "file_extension": ".py",
   "mimetype": "text/x-python",
   "name": "python",
   "nbconvert_exporter": "python",
   "pygments_lexer": "ipython3",
   "version": "3.7.12"
  },
  "papermill": {
   "default_parameters": {},
   "duration": 5084.751497,
   "end_time": "2022-06-01T17:51:55.134668",
   "environment_variables": {},
   "exception": true,
   "input_path": "__notebook__.ipynb",
   "output_path": "__notebook__.ipynb",
   "parameters": {},
   "start_time": "2022-06-01T16:27:10.383171",
   "version": "2.3.4"
  },
  "widgets": {
   "application/vnd.jupyter.widget-state+json": {
    "state": {
     "020c0ca654f44d4bba33c32b463e7edd": {
      "model_module": "@jupyter-widgets/controls",
      "model_module_version": "1.5.0",
      "model_name": "HBoxModel",
      "state": {
       "_dom_classes": [],
       "_model_module": "@jupyter-widgets/controls",
       "_model_module_version": "1.5.0",
       "_model_name": "HBoxModel",
       "_view_count": null,
       "_view_module": "@jupyter-widgets/controls",
       "_view_module_version": "1.5.0",
       "_view_name": "HBoxView",
       "box_style": "",
       "children": [
        "IPY_MODEL_e1f996dfd58842ed843ca3022579518e",
        "IPY_MODEL_546ba7e20aab4044b8323f2872e0793d",
        "IPY_MODEL_3d4e61ce44574b2fbe0b83198860497c"
       ],
       "layout": "IPY_MODEL_d29f8900bd644b148948d10e14d898a8"
      }
     },
     "035ada41827a491f844fcd70749726a4": {}
    }
   }
  }
 },
 "nbformat": 4,
 "nbformat_minor": 2
}
